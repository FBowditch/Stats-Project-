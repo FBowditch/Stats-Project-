{
 "cells": [
  {
   "cell_type": "code",
   "execution_count": 101,
   "metadata": {},
   "outputs": [],
   "source": [
    "import config\n",
    "import pandas as pd\n",
    "from sodapy import Socrata\n",
    "import mysql.connector\n",
    "import alc_connect as alc\n",
    "import scipy.stats as stats\n",
    "from math import sqrt\n",
    "import seaborn as sns"
   ]
  },
  {
   "cell_type": "markdown",
   "metadata": {},
   "source": [
    "## Joining Weather Data and Arrest Data"
   ]
  },
  {
   "cell_type": "code",
   "execution_count": 4,
   "metadata": {},
   "outputs": [],
   "source": [
    "all_data = pd.read_sql_query('Select * FROM brooklyn_weather JOIN brooklyn_arrest ON brooklyn_arrest.Date = brooklyn_weather.Date', alc.db)"
   ]
  },
  {
   "cell_type": "markdown",
   "metadata": {},
   "source": [
    "Dropping Duplicate 'Date' Column"
   ]
  },
  {
   "cell_type": "code",
   "execution_count": 5,
   "metadata": {},
   "outputs": [],
   "source": [
    "cols = []\n",
    "count = 1\n",
    "for column in all_data.columns:\n",
    "    if column == 'Date':\n",
    "        cols.append(f'Date_{count}')\n",
    "        count+=1\n",
    "        continue\n",
    "    cols.append(column)\n",
    "all_data.columns = cols"
   ]
  },
  {
   "cell_type": "code",
   "execution_count": 6,
   "metadata": {},
   "outputs": [],
   "source": [
    "all_data.drop(['Date_2'], axis = 1, inplace = True)"
   ]
  },
  {
   "cell_type": "code",
   "execution_count": 7,
   "metadata": {},
   "outputs": [],
   "source": [
    "all_data.rename(columns ={'Date_1':'Date'}, inplace = True)"
   ]
  },
  {
   "cell_type": "markdown",
   "metadata": {},
   "source": [
    "Storing All Data in SQL Database"
   ]
  },
  {
   "cell_type": "code",
   "execution_count": null,
   "metadata": {},
   "outputs": [],
   "source": [
    "all_data.to_sql('all_data', alc.db, if_exists = 'replace', index = False)"
   ]
  },
  {
   "cell_type": "markdown",
   "metadata": {},
   "source": [
    "## Getting Female and Male Arrests By Day "
   ]
  },
  {
   "cell_type": "code",
   "execution_count": 123,
   "metadata": {},
   "outputs": [],
   "source": [
    "SexFor_df = all_data.groupby(['Date','Sex']).count()\n",
    "\n",
    "SexFor_df.drop(['Moon Phase','Wind Speed', 'Average_Temp', 'Offense_Level', 'Race','Latitude','Longitude'], axis = 1, inplace = True)"
   ]
  },
  {
   "cell_type": "code",
   "execution_count": 127,
   "metadata": {},
   "outputs": [],
   "source": [
    "SexFor_df.drop(['Forecast','Crime_Description'], axis =1, inplace = True)"
   ]
  },
  {
   "cell_type": "code",
   "execution_count": 130,
   "metadata": {},
   "outputs": [],
   "source": [
    "SexFor_df.rename(columns={'Age_Group':'Arrests'}, inplace = True)"
   ]
  },
  {
   "cell_type": "code",
   "execution_count": 134,
   "metadata": {},
   "outputs": [],
   "source": [
    "SexFor_df.reset_index(inplace = True)"
   ]
  },
  {
   "cell_type": "code",
   "execution_count": 136,
   "metadata": {
    "scrolled": true
   },
   "outputs": [
    {
     "data": {
      "text/html": [
       "<div>\n",
       "<style scoped>\n",
       "    .dataframe tbody tr th:only-of-type {\n",
       "        vertical-align: middle;\n",
       "    }\n",
       "\n",
       "    .dataframe tbody tr th {\n",
       "        vertical-align: top;\n",
       "    }\n",
       "\n",
       "    .dataframe thead th {\n",
       "        text-align: right;\n",
       "    }\n",
       "</style>\n",
       "<table border=\"1\" class=\"dataframe\">\n",
       "  <thead>\n",
       "    <tr style=\"text-align: right;\">\n",
       "      <th></th>\n",
       "      <th>count</th>\n",
       "      <th>mean</th>\n",
       "      <th>std</th>\n",
       "      <th>min</th>\n",
       "      <th>25%</th>\n",
       "      <th>50%</th>\n",
       "      <th>75%</th>\n",
       "      <th>max</th>\n",
       "    </tr>\n",
       "    <tr>\n",
       "      <th>Sex</th>\n",
       "      <th></th>\n",
       "      <th></th>\n",
       "      <th></th>\n",
       "      <th></th>\n",
       "      <th></th>\n",
       "      <th></th>\n",
       "      <th></th>\n",
       "      <th></th>\n",
       "    </tr>\n",
       "  </thead>\n",
       "  <tbody>\n",
       "    <tr>\n",
       "      <td>F</td>\n",
       "      <td>271.0</td>\n",
       "      <td>29.291513</td>\n",
       "      <td>7.830134</td>\n",
       "      <td>10.0</td>\n",
       "      <td>24.0</td>\n",
       "      <td>30.0</td>\n",
       "      <td>33.0</td>\n",
       "      <td>53.0</td>\n",
       "    </tr>\n",
       "    <tr>\n",
       "      <td>M</td>\n",
       "      <td>271.0</td>\n",
       "      <td>137.811808</td>\n",
       "      <td>31.567295</td>\n",
       "      <td>77.0</td>\n",
       "      <td>113.0</td>\n",
       "      <td>138.0</td>\n",
       "      <td>160.0</td>\n",
       "      <td>267.0</td>\n",
       "    </tr>\n",
       "  </tbody>\n",
       "</table>\n",
       "</div>"
      ],
      "text/plain": [
       "     count        mean        std   min    25%    50%    75%    max\n",
       "Sex                                                                \n",
       "F    271.0   29.291513   7.830134  10.0   24.0   30.0   33.0   53.0\n",
       "M    271.0  137.811808  31.567295  77.0  113.0  138.0  160.0  267.0"
      ]
     },
     "execution_count": 136,
     "metadata": {},
     "output_type": "execute_result"
    }
   ],
   "source": [
    "DateFor_df.groupby('Sex')['Arrests'].describe()"
   ]
  },
  {
   "cell_type": "code",
   "execution_count": 138,
   "metadata": {},
   "outputs": [
    {
     "data": {
      "text/plain": [
       "528.67125"
      ]
     },
     "execution_count": 138,
     "metadata": {},
     "output_type": "execute_result"
    }
   ],
   "source": [
    "pooled = (31.56**2 + 7.83**2)/2\n",
    "pooled"
   ]
  },
  {
   "cell_type": "code",
   "execution_count": 141,
   "metadata": {},
   "outputs": [
    {
     "data": {
      "text/plain": [
       "6.07280936113842"
      ]
     },
     "execution_count": 141,
     "metadata": {},
     "output_type": "execute_result"
    }
   ],
   "source": [
    "def twosample_tstatistic():\n",
    "    denom = np.sqrt(528.67*((1/271))+(1/271))\n",
    "    num = 8.49\n",
    "    return num/denom\n",
    "\n",
    "t_stat = twosample_tstatistic()\n",
    "t_stat"
   ]
  },
  {
   "cell_type": "code",
   "execution_count": 142,
   "metadata": {
    "scrolled": true
   },
   "outputs": [
    {
     "data": {
      "image/png": "[encoded data removed]",
      "text/plain": [
       "<Figure size 576x360 with 1 Axes>"
      ]
     },
     "metadata": {
      "needs_background": "light"
     },
     "output_type": "display_data"
    }
   ],
   "source": [
    "\n",
    "xs = np.linspace(-5, 5, 200)\n",
    "\n",
    "# use stats.t.pdf to get values on the probability density function for the t-distribution\n",
    "# the second argument is the degrees of freedom\n",
    "ys = stats.t.pdf(xs, df, 0, 1)\n",
    "\n",
    "\n",
    "fig = plt.figure(figsize=(8,5))\n",
    "\n",
    "ax = fig.gca()\n",
    "\n",
    "\n",
    "ax.plot(xs, ys, linewidth=3, color='darkblue')\n",
    "\n",
    "# plot a vertical line for our measured difference in rates t-statistic\n",
    "ax.axvline(t_stat, color='red', linestyle='--', lw=5,label='t-statistic')\n",
    "\n",
    "negative_t_crit = -t_crit\n",
    "\n",
    "ax.axvline(t_crit,color='green',linestyle='--',lw=4,label='critical t-value')\n",
    "ax.axvline(-t_crit,color='green',linestyle='--',lw=4,label='critical t-value')\n",
    "ax.fill_betweenx(ys,xs,t_crit,where= xs > t_crit)\n",
    "ax.fill_betweenx(ys,xs,negative_t_crit,where= xs < negative_t_crit )\n",
    "\n",
    "ax.legend()\n",
    "plt.show()"
   ]
  },
  {
   "cell_type": "markdown",
   "metadata": {},
   "source": [
    "Sex and Arrest relation is statistically signficiant"
   ]
  },
  {
   "cell_type": "markdown",
   "metadata": {},
   "source": [
    "## Getting Statistics for #Arrests by Forecast"
   ]
  },
  {
   "cell_type": "code",
   "execution_count": 8,
   "metadata": {},
   "outputs": [],
   "source": [
    "DateFor_df = all_data.groupby(['Date','Forecast']).count()"
   ]
  },
  {
   "cell_type": "code",
   "execution_count": 9,
   "metadata": {},
   "outputs": [],
   "source": [
    "DateFor_df.drop(['Moon Phase','Wind Speed', 'Average_Temp', 'Offense_Level','Age_Group', 'Sex', 'Race','Latitude','Longitude'], axis = 1, inplace = True)"
   ]
  },
  {
   "cell_type": "code",
   "execution_count": 10,
   "metadata": {},
   "outputs": [],
   "source": [
    "DateFor_df.rename(columns={'Crime_Description':'Arrests'}, inplace = True)"
   ]
  },
  {
   "cell_type": "code",
   "execution_count": 11,
   "metadata": {},
   "outputs": [],
   "source": [
    "DateFor_df.reset_index(inplace = True)"
   ]
  },
  {
   "cell_type": "code",
   "execution_count": 12,
   "metadata": {},
   "outputs": [
    {
     "data": {
      "text/html": [
       "<div>\n",
       "<style scoped>\n",
       "    .dataframe tbody tr th:only-of-type {\n",
       "        vertical-align: middle;\n",
       "    }\n",
       "\n",
       "    .dataframe tbody tr th {\n",
       "        vertical-align: top;\n",
       "    }\n",
       "\n",
       "    .dataframe thead th {\n",
       "        text-align: right;\n",
       "    }\n",
       "</style>\n",
       "<table border=\"1\" class=\"dataframe\">\n",
       "  <thead>\n",
       "    <tr style=\"text-align: right;\">\n",
       "      <th></th>\n",
       "      <th>Date</th>\n",
       "      <th>Forecast</th>\n",
       "      <th>Arrests</th>\n",
       "    </tr>\n",
       "  </thead>\n",
       "  <tbody>\n",
       "    <tr>\n",
       "      <td>0</td>\n",
       "      <td>2019-01-01</td>\n",
       "      <td>rain</td>\n",
       "      <td>132</td>\n",
       "    </tr>\n",
       "    <tr>\n",
       "      <td>1</td>\n",
       "      <td>2019-01-02</td>\n",
       "      <td>partly-cloudy-day</td>\n",
       "      <td>178</td>\n",
       "    </tr>\n",
       "    <tr>\n",
       "      <td>2</td>\n",
       "      <td>2019-01-03</td>\n",
       "      <td>partly-cloudy-day</td>\n",
       "      <td>226</td>\n",
       "    </tr>\n",
       "    <tr>\n",
       "      <td>3</td>\n",
       "      <td>2019-01-04</td>\n",
       "      <td>clear-day</td>\n",
       "      <td>205</td>\n",
       "    </tr>\n",
       "    <tr>\n",
       "      <td>4</td>\n",
       "      <td>2019-01-05</td>\n",
       "      <td>rain</td>\n",
       "      <td>175</td>\n",
       "    </tr>\n",
       "    <tr>\n",
       "      <td>...</td>\n",
       "      <td>...</td>\n",
       "      <td>...</td>\n",
       "      <td>...</td>\n",
       "    </tr>\n",
       "    <tr>\n",
       "      <td>266</td>\n",
       "      <td>2019-09-26</td>\n",
       "      <td>rain</td>\n",
       "      <td>184</td>\n",
       "    </tr>\n",
       "    <tr>\n",
       "      <td>267</td>\n",
       "      <td>2019-09-27</td>\n",
       "      <td>clear-day</td>\n",
       "      <td>168</td>\n",
       "    </tr>\n",
       "    <tr>\n",
       "      <td>268</td>\n",
       "      <td>2019-09-28</td>\n",
       "      <td>partly-cloudy-day</td>\n",
       "      <td>104</td>\n",
       "    </tr>\n",
       "    <tr>\n",
       "      <td>269</td>\n",
       "      <td>2019-09-29</td>\n",
       "      <td>clear-day</td>\n",
       "      <td>103</td>\n",
       "    </tr>\n",
       "    <tr>\n",
       "      <td>270</td>\n",
       "      <td>2019-09-30</td>\n",
       "      <td>partly-cloudy-day</td>\n",
       "      <td>118</td>\n",
       "    </tr>\n",
       "  </tbody>\n",
       "</table>\n",
       "<p>271 rows × 3 columns</p>\n",
       "</div>"
      ],
      "text/plain": [
       "          Date           Forecast  Arrests\n",
       "0   2019-01-01               rain      132\n",
       "1   2019-01-02  partly-cloudy-day      178\n",
       "2   2019-01-03  partly-cloudy-day      226\n",
       "3   2019-01-04          clear-day      205\n",
       "4   2019-01-05               rain      175\n",
       "..         ...                ...      ...\n",
       "266 2019-09-26               rain      184\n",
       "267 2019-09-27          clear-day      168\n",
       "268 2019-09-28  partly-cloudy-day      104\n",
       "269 2019-09-29          clear-day      103\n",
       "270 2019-09-30  partly-cloudy-day      118\n",
       "\n",
       "[271 rows x 3 columns]"
      ]
     },
     "execution_count": 12,
     "metadata": {},
     "output_type": "execute_result"
    }
   ],
   "source": [
    "DateFor_df"
   ]
  },
  {
   "cell_type": "code",
   "execution_count": 13,
   "metadata": {
    "scrolled": true
   },
   "outputs": [
    {
     "data": {
      "text/html": [
       "<div>\n",
       "<style scoped>\n",
       "    .dataframe tbody tr th:only-of-type {\n",
       "        vertical-align: middle;\n",
       "    }\n",
       "\n",
       "    .dataframe tbody tr th {\n",
       "        vertical-align: top;\n",
       "    }\n",
       "\n",
       "    .dataframe thead th {\n",
       "        text-align: right;\n",
       "    }\n",
       "</style>\n",
       "<table border=\"1\" class=\"dataframe\">\n",
       "  <thead>\n",
       "    <tr style=\"text-align: right;\">\n",
       "      <th></th>\n",
       "      <th>count</th>\n",
       "      <th>mean</th>\n",
       "      <th>std</th>\n",
       "      <th>min</th>\n",
       "      <th>25%</th>\n",
       "      <th>50%</th>\n",
       "      <th>75%</th>\n",
       "      <th>max</th>\n",
       "    </tr>\n",
       "    <tr>\n",
       "      <th>Forecast</th>\n",
       "      <th></th>\n",
       "      <th></th>\n",
       "      <th></th>\n",
       "      <th></th>\n",
       "      <th></th>\n",
       "      <th></th>\n",
       "      <th></th>\n",
       "      <th></th>\n",
       "    </tr>\n",
       "  </thead>\n",
       "  <tbody>\n",
       "    <tr>\n",
       "      <td>clear-day</td>\n",
       "      <td>88.0</td>\n",
       "      <td>166.750000</td>\n",
       "      <td>35.428818</td>\n",
       "      <td>103.0</td>\n",
       "      <td>139.00</td>\n",
       "      <td>162.5</td>\n",
       "      <td>188.75</td>\n",
       "      <td>306.0</td>\n",
       "    </tr>\n",
       "    <tr>\n",
       "      <td>cloudy</td>\n",
       "      <td>6.0</td>\n",
       "      <td>174.333333</td>\n",
       "      <td>32.097767</td>\n",
       "      <td>141.0</td>\n",
       "      <td>147.00</td>\n",
       "      <td>171.5</td>\n",
       "      <td>197.50</td>\n",
       "      <td>217.0</td>\n",
       "    </tr>\n",
       "    <tr>\n",
       "      <td>partly-cloudy-day</td>\n",
       "      <td>69.0</td>\n",
       "      <td>166.840580</td>\n",
       "      <td>39.617889</td>\n",
       "      <td>96.0</td>\n",
       "      <td>133.00</td>\n",
       "      <td>168.0</td>\n",
       "      <td>196.00</td>\n",
       "      <td>263.0</td>\n",
       "    </tr>\n",
       "    <tr>\n",
       "      <td>rain</td>\n",
       "      <td>100.0</td>\n",
       "      <td>167.780000</td>\n",
       "      <td>33.952308</td>\n",
       "      <td>92.0</td>\n",
       "      <td>139.00</td>\n",
       "      <td>167.5</td>\n",
       "      <td>190.25</td>\n",
       "      <td>271.0</td>\n",
       "    </tr>\n",
       "    <tr>\n",
       "      <td>snow</td>\n",
       "      <td>8.0</td>\n",
       "      <td>159.375000</td>\n",
       "      <td>36.718767</td>\n",
       "      <td>107.0</td>\n",
       "      <td>129.75</td>\n",
       "      <td>161.0</td>\n",
       "      <td>195.75</td>\n",
       "      <td>200.0</td>\n",
       "    </tr>\n",
       "  </tbody>\n",
       "</table>\n",
       "</div>"
      ],
      "text/plain": [
       "                   count        mean        std    min     25%    50%     75%  \\\n",
       "Forecast                                                                        \n",
       "clear-day           88.0  166.750000  35.428818  103.0  139.00  162.5  188.75   \n",
       "cloudy               6.0  174.333333  32.097767  141.0  147.00  171.5  197.50   \n",
       "partly-cloudy-day   69.0  166.840580  39.617889   96.0  133.00  168.0  196.00   \n",
       "rain               100.0  167.780000  33.952308   92.0  139.00  167.5  190.25   \n",
       "snow                 8.0  159.375000  36.718767  107.0  129.75  161.0  195.75   \n",
       "\n",
       "                     max  \n",
       "Forecast                  \n",
       "clear-day          306.0  \n",
       "cloudy             217.0  \n",
       "partly-cloudy-day  263.0  \n",
       "rain               271.0  \n",
       "snow               200.0  "
      ]
     },
     "execution_count": 13,
     "metadata": {},
     "output_type": "execute_result"
    }
   ],
   "source": [
    "DateFor_df.groupby('Forecast')['Arrests'].describe()"
   ]
  },
  {
   "cell_type": "code",
   "execution_count": 14,
   "metadata": {
    "scrolled": false
   },
   "outputs": [
    {
     "data": {
      "text/plain": [
       "count    271.000000\n",
       "mean     167.103321\n",
       "std       35.771865\n",
       "min       92.000000\n",
       "25%      139.000000\n",
       "50%      165.000000\n",
       "75%      192.500000\n",
       "max      306.000000\n",
       "Name: Arrests, dtype: float64"
      ]
     },
     "execution_count": 14,
     "metadata": {},
     "output_type": "execute_result"
    }
   ],
   "source": [
    "DateFor_df['Arrests'].describe()"
   ]
  },
  {
   "cell_type": "markdown",
   "metadata": {},
   "source": [
    "## Clear-Days"
   ]
  },
  {
   "cell_type": "code",
   "execution_count": 15,
   "metadata": {},
   "outputs": [
    {
     "data": {
      "text/plain": [
       "<matplotlib.axes._subplots.AxesSubplot at 0x1a17dcecd0>"
      ]
     },
     "execution_count": 15,
     "metadata": {},
     "output_type": "execute_result"
    },
    {
     "data": {
      "image/png": "[encoded data removed]",
      "text/plain": [
       "<Figure size 432x288 with 1 Axes>"
      ]
     },
     "metadata": {
      "needs_background": "light"
     },
     "output_type": "display_data"
    }
   ],
   "source": [
    "import numpy as np\n",
    "import seaborn as sns\n",
    "import matplotlib.pyplot as plt\n",
    "\n",
    "mu, sd = 166.75, 35.428\n",
    "n = 8000\n",
    "s = np.random.normal(mu, sd, n)\n",
    "sns.distplot(s, axlabel = 'Arrests on Clear Days in Brooklyn')\n",
    "\n",
    "#sample size is reflective of the population"
   ]
  },
  {
   "cell_type": "code",
   "execution_count": 16,
   "metadata": {},
   "outputs": [
    {
     "data": {
      "text/plain": [
       "-0.09178895811787384"
      ]
     },
     "execution_count": 16,
     "metadata": {},
     "output_type": "execute_result"
    }
   ],
   "source": [
    "# Clear-Day\n",
    "x_bar = 166.75 # sample mean \n",
    "n = 88 # number of samples\n",
    "sd = 35.77 # sd of population\n",
    "mu = 167.10 # Population mean \n",
    "\n",
    "z = (x_bar - mu)/(sd/sqrt(n))\n",
    "z #z statistic"
   ]
  },
  {
   "cell_type": "code",
   "execution_count": 17,
   "metadata": {},
   "outputs": [
    {
     "data": {
      "text/plain": [
       "0.5365671414146926"
      ]
     },
     "execution_count": 17,
     "metadata": {},
     "output_type": "execute_result"
    }
   ],
   "source": [
    "pval = 1 - stats.norm.cdf(z)\n",
    "pval #alpha = .05"
   ]
  },
  {
   "cell_type": "markdown",
   "metadata": {},
   "source": [
    "What we can say is that there is not enough evidence to reject the null hypothesis with the given sample, given an alpha of 0.05."
   ]
  },
  {
   "cell_type": "markdown",
   "metadata": {},
   "source": [
    "## Cloudy Days"
   ]
  },
  {
   "cell_type": "code",
   "execution_count": 18,
   "metadata": {},
   "outputs": [
    {
     "data": {
      "text/plain": [
       "<matplotlib.axes._subplots.AxesSubplot at 0x1a1bd8c8d0>"
      ]
     },
     "execution_count": 18,
     "metadata": {},
     "output_type": "execute_result"
    },
    {
     "data": {
      "image/png": "[encoded data removed]",
      "text/plain": [
       "<Figure size 432x288 with 1 Axes>"
      ]
     },
     "metadata": {
      "needs_background": "light"
     },
     "output_type": "display_data"
    }
   ],
   "source": [
    "mu, sd = 174.33, 32.09\n",
    "n = 8000\n",
    "s = np.random.normal(mu, sd, n)\n",
    "sns.distplot(s, axlabel = 'Arrests on Cloudy Days in Brooklyn')\n",
    "\n",
    "#sample size is reflective of the population"
   ]
  },
  {
   "cell_type": "code",
   "execution_count": 143,
   "metadata": {},
   "outputs": [
    {
     "name": "stdout",
     "output_type": "stream",
     "text": [
      "The sample contains 6 observations, having a mean of 174.33 and a standard deviation =  32.09 , with 5 degrees of freedom. The difference between sample and population means is: 7.230000000000018\n"
     ]
    }
   ],
   "source": [
    "#cloudy\n",
    "x_bar = 174.33\n",
    "n = 6\n",
    "sd = 32.09 #sd of sample population \n",
    "mu = 167.10 \n",
    "\n",
    "df = n-1\n",
    "\n",
    "diff = x_bar - mu\n",
    "print ('The sample contains', n, 'observations, having a mean of', x_bar, \"and a standard deviation = \", sd, \n",
    "       \", with\", df, 'degrees of freedom. The difference between sample and population means is:', diff)\n"
   ]
  },
  {
   "cell_type": "code",
   "execution_count": 20,
   "metadata": {},
   "outputs": [
    {
     "data": {
      "text/plain": [
       "0.5518794278691935"
      ]
     },
     "execution_count": 20,
     "metadata": {},
     "output_type": "execute_result"
    }
   ],
   "source": [
    "t = (x_bar -  mu)/(sd/np.sqrt(n))\n",
    "t #t_score "
   ]
  },
  {
   "cell_type": "code",
   "execution_count": 21,
   "metadata": {},
   "outputs": [
    {
     "data": {
      "text/plain": [
       "2.064"
      ]
     },
     "execution_count": 21,
     "metadata": {},
     "output_type": "execute_result"
    }
   ],
   "source": [
    "t_crit = np.round(stats.t.ppf(1 - 0.025, df=24),3)\n",
    "t_crit #t_critical value"
   ]
  },
  {
   "cell_type": "code",
   "execution_count": 22,
   "metadata": {},
   "outputs": [
    {
     "data": {
      "image/png": "[encoded data removed]",
      "text/plain": [
       "<Figure size 576x360 with 1 Axes>"
      ]
     },
     "metadata": {
      "needs_background": "light"
     },
     "output_type": "display_data"
    }
   ],
   "source": [
    "\n",
    "xs = np.linspace(-5, 5, 200)\n",
    "\n",
    "# use stats.t.pdf to get values on the probability density function for the t-distribution\n",
    "# the second argument is the degrees of freedom\n",
    "ys = stats.t.pdf(xs, df, 0, 1)\n",
    "\n",
    "\n",
    "fig = plt.figure(figsize=(8,5))\n",
    "\n",
    "\n",
    "ax = fig.gca()\n",
    "\n",
    "\n",
    "ax.plot(xs, ys, linewidth=3, color='darkblue')\n",
    "\n",
    "# plot a vertical line for our measured difference in rates t-statistic\n",
    "ax.axvline(t, color='red', linestyle='--', lw=5,label='t-statistic')\n",
    "\n",
    "negative_t_crit = -t_crit\n",
    "\n",
    "ax.axvline(t_crit,color='green',linestyle='--',lw=4,label='critical t-value')\n",
    "ax.axvline(-t_crit,color='green',linestyle='--',lw=4,label='critical t-value')\n",
    "ax.fill_betweenx(ys,xs,t_crit,where= xs > t_crit)\n",
    "ax.fill_betweenx(ys,xs,negative_t_crit,where= xs < negative_t_crit )\n",
    "\n",
    "ax.legend()\n",
    "plt.show()"
   ]
  },
  {
   "cell_type": "markdown",
   "metadata": {},
   "source": [
    "## Partly Cloudy"
   ]
  },
  {
   "cell_type": "code",
   "execution_count": 23,
   "metadata": {},
   "outputs": [
    {
     "data": {
      "text/plain": [
       "<matplotlib.axes._subplots.AxesSubplot at 0x1a1c6ae210>"
      ]
     },
     "execution_count": 23,
     "metadata": {},
     "output_type": "execute_result"
    },
    {
     "data": {
      "image/png": "[encoded data removed]",
      "text/plain": [
       "<Figure size 432x288 with 1 Axes>"
      ]
     },
     "metadata": {
      "needs_background": "light"
     },
     "output_type": "display_data"
    }
   ],
   "source": [
    "import numpy as np\n",
    "import seaborn as sns\n",
    "import matplotlib.pyplot as plt\n",
    "\n",
    "mu, sd = 166.840580, 39.617889\n",
    "n = 5000\n",
    "s = np.random.normal(mu, sd, n)\n",
    "sns.distplot(s, axlabel = 'Arrests on Partly Cloudy Days in Brooklyn')\n",
    "\n",
    "#sample size is reflective of the population\n",
    "\n"
   ]
  },
  {
   "cell_type": "code",
   "execution_count": 24,
   "metadata": {},
   "outputs": [
    {
     "data": {
      "text/plain": [
       "-0.05439220556446748"
      ]
     },
     "execution_count": 24,
     "metadata": {},
     "output_type": "execute_result"
    }
   ],
   "source": [
    "# Partly Cloudy\n",
    "x_bar = 166.840580 # sample mean \n",
    "n = 69 # number of samples\n",
    "sd = 39.617889 # sd of population\n",
    "mu = 167.10 # Population mean \n",
    "\n",
    "z = (x_bar - mu)/(sd/sqrt(n))\n",
    "z #z statistic"
   ]
  },
  {
   "cell_type": "code",
   "execution_count": 25,
   "metadata": {},
   "outputs": [
    {
     "data": {
      "text/plain": [
       "0.5216886556389477"
      ]
     },
     "execution_count": 25,
     "metadata": {},
     "output_type": "execute_result"
    }
   ],
   "source": [
    "pval = 1 - stats.norm.cdf(z)\n",
    "pval #alpha = .05"
   ]
  },
  {
   "cell_type": "markdown",
   "metadata": {},
   "source": [
    "What we can say is that there is not enough evidence to reject the null hypothesis with the given sample, given an alpha of 0.05."
   ]
  },
  {
   "cell_type": "markdown",
   "metadata": {},
   "source": [
    "## Rainy Days"
   ]
  },
  {
   "cell_type": "code",
   "execution_count": 26,
   "metadata": {
    "scrolled": true
   },
   "outputs": [
    {
     "data": {
      "text/plain": [
       "<matplotlib.axes._subplots.AxesSubplot at 0x1a1d2a9950>"
      ]
     },
     "execution_count": 26,
     "metadata": {},
     "output_type": "execute_result"
    },
    {
     "data": {
      "image/png": "[encoded data removed]",
      "text/plain": [
       "<Figure size 432x288 with 1 Axes>"
      ]
     },
     "metadata": {
      "needs_background": "light"
     },
     "output_type": "display_data"
    }
   ],
   "source": [
    "import numpy as np\n",
    "import seaborn as sns\n",
    "import matplotlib.pyplot as plt\n",
    "\n",
    "mu, sd = 167.78, 33.952308\n",
    "n = 5000\n",
    "s = np.random.normal(mu, sd, n)\n",
    "sns.distplot(s, axlabel = 'Arrests on Rainy Days in Brooklyn')\n",
    "\n",
    "#sample size is reflective of the population"
   ]
  },
  {
   "cell_type": "code",
   "execution_count": 27,
   "metadata": {},
   "outputs": [
    {
     "data": {
      "text/plain": [
       "0.2002809352459947"
      ]
     },
     "execution_count": 27,
     "metadata": {},
     "output_type": "execute_result"
    }
   ],
   "source": [
    "# Partly Cloudy\n",
    "x_bar = 167.78 # sample mean \n",
    "n = 100 # number of samples\n",
    "sd = 33.952308 # sd of population\n",
    "mu = 167.10 # Population mean \n",
    "\n",
    "z = (x_bar - mu)/(sd/sqrt(n))\n",
    "z #z statistic"
   ]
  },
  {
   "cell_type": "code",
   "execution_count": 28,
   "metadata": {},
   "outputs": [
    {
     "data": {
      "text/plain": [
       "0.4206304359731471"
      ]
     },
     "execution_count": 28,
     "metadata": {},
     "output_type": "execute_result"
    }
   ],
   "source": [
    "pval = 1 - stats.norm.cdf(z)\n",
    "pval #alpha = .05"
   ]
  },
  {
   "cell_type": "markdown",
   "metadata": {},
   "source": [
    "## Snow Days"
   ]
  },
  {
   "cell_type": "code",
   "execution_count": 29,
   "metadata": {
    "scrolled": true
   },
   "outputs": [
    {
     "data": {
      "text/plain": [
       "<matplotlib.axes._subplots.AxesSubplot at 0x1a1b81f090>"
      ]
     },
     "execution_count": 29,
     "metadata": {},
     "output_type": "execute_result"
    },
    {
     "data": {
      "image/png": "[encoded data removed]",
      "text/plain": [
       "<Figure size 432x288 with 1 Axes>"
      ]
     },
     "metadata": {
      "needs_background": "light"
     },
     "output_type": "display_data"
    }
   ],
   "source": [
    "mu, sd = 159.375, 36.718767\n",
    "n = 8000\n",
    "s = np.random.normal(mu, sd, n)\n",
    "sns.distplot(s, axlabel = 'Arrests on Snowy Days in Brooklyn')\n",
    "\n",
    "#sample size is reflective of the population"
   ]
  },
  {
   "cell_type": "code",
   "execution_count": 144,
   "metadata": {
    "scrolled": true
   },
   "outputs": [
    {
     "name": "stdout",
     "output_type": "stream",
     "text": [
      "The sample contains 8 observations, having a mean of 159.375 and a standard deviation =  36.718767 , with 7 degrees of freedom. The difference between sample and population means is: -7.724999999999994\n"
     ]
    }
   ],
   "source": [
    "x_bar = 159.375\n",
    "n = 8\n",
    "sd = 36.718767 #sd of sample population \n",
    "mu = 167.10 \n",
    "\n",
    "df = n-1\n",
    "\n",
    "diff = x_bar - mu\n",
    "print ('The sample contains', n, 'observations, having a mean of', x_bar, \"and a standard deviation = \", sd, \n",
    "       \", with\", df, 'degrees of freedom. The difference between sample and population means is:', diff)"
   ]
  },
  {
   "cell_type": "code",
   "execution_count": 31,
   "metadata": {},
   "outputs": [
    {
     "data": {
      "text/plain": [
       "-0.5950526481094615"
      ]
     },
     "execution_count": 31,
     "metadata": {},
     "output_type": "execute_result"
    }
   ],
   "source": [
    "t = (x_bar -  mu)/(sd/np.sqrt(n))\n",
    "t #t_score "
   ]
  },
  {
   "cell_type": "code",
   "execution_count": 32,
   "metadata": {},
   "outputs": [
    {
     "data": {
      "text/plain": [
       "2.365"
      ]
     },
     "execution_count": 32,
     "metadata": {},
     "output_type": "execute_result"
    }
   ],
   "source": [
    "t_crit = np.round(stats.t.ppf(1 - 0.025, df),3)\n",
    "t_crit #t_critical value"
   ]
  },
  {
   "cell_type": "code",
   "execution_count": 33,
   "metadata": {
    "scrolled": false
   },
   "outputs": [
    {
     "data": {
      "image/png": "[encoded data removed]",
      "text/plain": [
       "<Figure size 576x360 with 1 Axes>"
      ]
     },
     "metadata": {
      "needs_background": "light"
     },
     "output_type": "display_data"
    }
   ],
   "source": [
    "\n",
    "xs = np.linspace(-5, 5, 200)\n",
    "\n",
    "# use stats.t.pdf to get values on the probability density function for the t-distribution\n",
    "# the second argument is the degrees of freedom\n",
    "ys = stats.t.pdf(xs, df, 0, 1)\n",
    "\n",
    "\n",
    "fig = plt.figure(figsize=(8,5))\n",
    "\n",
    "\n",
    "ax = fig.gca()\n",
    "\n",
    "\n",
    "ax.plot(xs, ys, linewidth=3, color='darkblue')\n",
    "\n",
    "# plot a vertical line for our measured difference in rates t-statistic\n",
    "ax.axvline(t, color='red', linestyle='--', lw=5,label='t-statistic')\n",
    "\n",
    "negative_t_crit = -t_crit\n",
    "\n",
    "ax.axvline(t_crit,color='green',linestyle='--',lw=4,label='critical t-value')\n",
    "ax.axvline(-t_crit,color='green',linestyle='--',lw=4,label='critical t-value')\n",
    "ax.fill_betweenx(ys,xs,t_crit,where= xs > t_crit)\n",
    "ax.fill_betweenx(ys,xs,negative_t_crit,where= xs < negative_t_crit )\n",
    "\n",
    "ax.legend()\n",
    "plt.show()"
   ]
  },
  {
   "cell_type": "markdown",
   "metadata": {},
   "source": [
    "## Getting Statistics For Arrests By Sex On Forecast Day"
   ]
  },
  {
   "cell_type": "code",
   "execution_count": 44,
   "metadata": {},
   "outputs": [],
   "source": [
    "DateForSex_df = all_data.groupby(['Date','Forecast','Sex']).count()"
   ]
  },
  {
   "cell_type": "code",
   "execution_count": 49,
   "metadata": {},
   "outputs": [],
   "source": [
    "DateForSex_df.drop(['Crime_Description'], axis = 1, inplace = True) #need to drop other columns as well"
   ]
  },
  {
   "cell_type": "code",
   "execution_count": 52,
   "metadata": {},
   "outputs": [],
   "source": [
    "DateForSex_df.rename(columns={'Age_Group':'Arrests'}, inplace = True)"
   ]
  },
  {
   "cell_type": "code",
   "execution_count": 79,
   "metadata": {},
   "outputs": [],
   "source": [
    "DateForSex_df.reset_index(inplace = True)"
   ]
  },
  {
   "cell_type": "code",
   "execution_count": 82,
   "metadata": {},
   "outputs": [
    {
     "data": {
      "text/html": [
       "<div>\n",
       "<style scoped>\n",
       "    .dataframe tbody tr th:only-of-type {\n",
       "        vertical-align: middle;\n",
       "    }\n",
       "\n",
       "    .dataframe tbody tr th {\n",
       "        vertical-align: top;\n",
       "    }\n",
       "\n",
       "    .dataframe thead th {\n",
       "        text-align: right;\n",
       "    }\n",
       "</style>\n",
       "<table border=\"1\" class=\"dataframe\">\n",
       "  <thead>\n",
       "    <tr style=\"text-align: right;\">\n",
       "      <th></th>\n",
       "      <th>Date</th>\n",
       "      <th>Forecast</th>\n",
       "      <th>Sex</th>\n",
       "      <th>Arrests</th>\n",
       "    </tr>\n",
       "  </thead>\n",
       "  <tbody>\n",
       "    <tr>\n",
       "      <td>0</td>\n",
       "      <td>2019-01-01</td>\n",
       "      <td>rain</td>\n",
       "      <td>F</td>\n",
       "      <td>18</td>\n",
       "    </tr>\n",
       "    <tr>\n",
       "      <td>1</td>\n",
       "      <td>2019-01-01</td>\n",
       "      <td>rain</td>\n",
       "      <td>M</td>\n",
       "      <td>114</td>\n",
       "    </tr>\n",
       "    <tr>\n",
       "      <td>2</td>\n",
       "      <td>2019-01-02</td>\n",
       "      <td>partly-cloudy-day</td>\n",
       "      <td>F</td>\n",
       "      <td>41</td>\n",
       "    </tr>\n",
       "    <tr>\n",
       "      <td>3</td>\n",
       "      <td>2019-01-02</td>\n",
       "      <td>partly-cloudy-day</td>\n",
       "      <td>M</td>\n",
       "      <td>137</td>\n",
       "    </tr>\n",
       "    <tr>\n",
       "      <td>4</td>\n",
       "      <td>2019-01-03</td>\n",
       "      <td>partly-cloudy-day</td>\n",
       "      <td>F</td>\n",
       "      <td>27</td>\n",
       "    </tr>\n",
       "  </tbody>\n",
       "</table>\n",
       "</div>"
      ],
      "text/plain": [
       "        Date           Forecast Sex  Arrests\n",
       "0 2019-01-01               rain   F       18\n",
       "1 2019-01-01               rain   M      114\n",
       "2 2019-01-02  partly-cloudy-day   F       41\n",
       "3 2019-01-02  partly-cloudy-day   M      137\n",
       "4 2019-01-03  partly-cloudy-day   F       27"
      ]
     },
     "execution_count": 82,
     "metadata": {},
     "output_type": "execute_result"
    }
   ],
   "source": [
    "DateForSex_df.head()"
   ]
  },
  {
   "cell_type": "code",
   "execution_count": 71,
   "metadata": {
    "scrolled": false
   },
   "outputs": [],
   "source": [
    "df_sex_weather = DateForSex_df.groupby(['Forecast','Sex'])['Arrests'].describe()"
   ]
  },
  {
   "cell_type": "code",
   "execution_count": 116,
   "metadata": {
    "scrolled": false
   },
   "outputs": [
    {
     "data": {
      "text/html": [
       "<div>\n",
       "<style scoped>\n",
       "    .dataframe tbody tr th:only-of-type {\n",
       "        vertical-align: middle;\n",
       "    }\n",
       "\n",
       "    .dataframe tbody tr th {\n",
       "        vertical-align: top;\n",
       "    }\n",
       "\n",
       "    .dataframe thead th {\n",
       "        text-align: right;\n",
       "    }\n",
       "</style>\n",
       "<table border=\"1\" class=\"dataframe\">\n",
       "  <thead>\n",
       "    <tr style=\"text-align: right;\">\n",
       "      <th></th>\n",
       "      <th></th>\n",
       "      <th>count</th>\n",
       "      <th>mean</th>\n",
       "      <th>std</th>\n",
       "      <th>min</th>\n",
       "      <th>25%</th>\n",
       "      <th>50%</th>\n",
       "      <th>75%</th>\n",
       "      <th>max</th>\n",
       "    </tr>\n",
       "    <tr>\n",
       "      <th>Forecast</th>\n",
       "      <th>Sex</th>\n",
       "      <th></th>\n",
       "      <th></th>\n",
       "      <th></th>\n",
       "      <th></th>\n",
       "      <th></th>\n",
       "      <th></th>\n",
       "      <th></th>\n",
       "      <th></th>\n",
       "    </tr>\n",
       "  </thead>\n",
       "  <tbody>\n",
       "    <tr>\n",
       "      <td rowspan=\"2\" valign=\"top\">clear-day</td>\n",
       "      <td>F</td>\n",
       "      <td>88.0</td>\n",
       "      <td>29.454545</td>\n",
       "      <td>7.111443</td>\n",
       "      <td>16.0</td>\n",
       "      <td>25.00</td>\n",
       "      <td>30.0</td>\n",
       "      <td>33.00</td>\n",
       "      <td>53.0</td>\n",
       "    </tr>\n",
       "    <tr>\n",
       "      <td>M</td>\n",
       "      <td>88.0</td>\n",
       "      <td>137.295455</td>\n",
       "      <td>32.188796</td>\n",
       "      <td>77.0</td>\n",
       "      <td>113.00</td>\n",
       "      <td>136.5</td>\n",
       "      <td>157.75</td>\n",
       "      <td>267.0</td>\n",
       "    </tr>\n",
       "    <tr>\n",
       "      <td rowspan=\"2\" valign=\"top\">cloudy</td>\n",
       "      <td>F</td>\n",
       "      <td>6.0</td>\n",
       "      <td>28.000000</td>\n",
       "      <td>5.796551</td>\n",
       "      <td>20.0</td>\n",
       "      <td>24.00</td>\n",
       "      <td>28.5</td>\n",
       "      <td>32.25</td>\n",
       "      <td>35.0</td>\n",
       "    </tr>\n",
       "    <tr>\n",
       "      <td>M</td>\n",
       "      <td>6.0</td>\n",
       "      <td>146.333333</td>\n",
       "      <td>29.377996</td>\n",
       "      <td>118.0</td>\n",
       "      <td>121.50</td>\n",
       "      <td>140.0</td>\n",
       "      <td>172.00</td>\n",
       "      <td>182.0</td>\n",
       "    </tr>\n",
       "    <tr>\n",
       "      <td rowspan=\"2\" valign=\"top\">partly-cloudy-day</td>\n",
       "      <td>F</td>\n",
       "      <td>69.0</td>\n",
       "      <td>29.304348</td>\n",
       "      <td>8.952989</td>\n",
       "      <td>10.0</td>\n",
       "      <td>23.00</td>\n",
       "      <td>30.0</td>\n",
       "      <td>35.00</td>\n",
       "      <td>51.0</td>\n",
       "    </tr>\n",
       "    <tr>\n",
       "      <td>M</td>\n",
       "      <td>69.0</td>\n",
       "      <td>137.536232</td>\n",
       "      <td>33.808970</td>\n",
       "      <td>78.0</td>\n",
       "      <td>113.00</td>\n",
       "      <td>138.0</td>\n",
       "      <td>163.00</td>\n",
       "      <td>218.0</td>\n",
       "    </tr>\n",
       "    <tr>\n",
       "      <td rowspan=\"2\" valign=\"top\">rain</td>\n",
       "      <td>F</td>\n",
       "      <td>100.0</td>\n",
       "      <td>29.080000</td>\n",
       "      <td>7.718115</td>\n",
       "      <td>12.0</td>\n",
       "      <td>24.00</td>\n",
       "      <td>28.0</td>\n",
       "      <td>33.00</td>\n",
       "      <td>49.0</td>\n",
       "    </tr>\n",
       "    <tr>\n",
       "      <td>M</td>\n",
       "      <td>100.0</td>\n",
       "      <td>138.700000</td>\n",
       "      <td>29.997811</td>\n",
       "      <td>79.0</td>\n",
       "      <td>113.75</td>\n",
       "      <td>139.0</td>\n",
       "      <td>159.00</td>\n",
       "      <td>247.0</td>\n",
       "    </tr>\n",
       "    <tr>\n",
       "      <td rowspan=\"2\" valign=\"top\">snow</td>\n",
       "      <td>F</td>\n",
       "      <td>8.0</td>\n",
       "      <td>31.000000</td>\n",
       "      <td>9.242758</td>\n",
       "      <td>18.0</td>\n",
       "      <td>24.50</td>\n",
       "      <td>31.0</td>\n",
       "      <td>35.00</td>\n",
       "      <td>46.0</td>\n",
       "    </tr>\n",
       "    <tr>\n",
       "      <td>M</td>\n",
       "      <td>8.0</td>\n",
       "      <td>128.375000</td>\n",
       "      <td>30.533062</td>\n",
       "      <td>89.0</td>\n",
       "      <td>103.25</td>\n",
       "      <td>133.0</td>\n",
       "      <td>154.00</td>\n",
       "      <td>167.0</td>\n",
       "    </tr>\n",
       "  </tbody>\n",
       "</table>\n",
       "</div>"
      ],
      "text/plain": [
       "                       count        mean        std    min     25%    50%  \\\n",
       "Forecast          Sex                                                       \n",
       "clear-day         F     88.0   29.454545   7.111443   16.0   25.00   30.0   \n",
       "                  M     88.0  137.295455  32.188796   77.0  113.00  136.5   \n",
       "cloudy            F      6.0   28.000000   5.796551   20.0   24.00   28.5   \n",
       "                  M      6.0  146.333333  29.377996  118.0  121.50  140.0   \n",
       "partly-cloudy-day F     69.0   29.304348   8.952989   10.0   23.00   30.0   \n",
       "                  M     69.0  137.536232  33.808970   78.0  113.00  138.0   \n",
       "rain              F    100.0   29.080000   7.718115   12.0   24.00   28.0   \n",
       "                  M    100.0  138.700000  29.997811   79.0  113.75  139.0   \n",
       "snow              F      8.0   31.000000   9.242758   18.0   24.50   31.0   \n",
       "                  M      8.0  128.375000  30.533062   89.0  103.25  133.0   \n",
       "\n",
       "                          75%    max  \n",
       "Forecast          Sex                 \n",
       "clear-day         F     33.00   53.0  \n",
       "                  M    157.75  267.0  \n",
       "cloudy            F     32.25   35.0  \n",
       "                  M    172.00  182.0  \n",
       "partly-cloudy-day F     35.00   51.0  \n",
       "                  M    163.00  218.0  \n",
       "rain              F     33.00   49.0  \n",
       "                  M    159.00  247.0  \n",
       "snow              F     35.00   46.0  \n",
       "                  M    154.00  167.0  "
      ]
     },
     "execution_count": 116,
     "metadata": {},
     "output_type": "execute_result"
    }
   ],
   "source": [
    "df_sex_weather"
   ]
  },
  {
   "cell_type": "markdown",
   "metadata": {},
   "source": [
    "## Box Plot - Average number of arrets each day by gender"
   ]
  },
  {
   "cell_type": "code",
   "execution_count": 110,
   "metadata": {
    "scrolled": true
   },
   "outputs": [
    {
     "data": {
      "text/plain": [
       "<matplotlib.axes._subplots.AxesSubplot at 0x1a1b2bc350>"
      ]
     },
     "execution_count": 110,
     "metadata": {},
     "output_type": "execute_result"
    },
    {
     "data": {
      "image/png": "[encoded data removed]",
      "text/plain": [
       "<Figure size 432x432 with 1 Axes>"
      ]
     },
     "metadata": {
      "needs_background": "light"
     },
     "output_type": "display_data"
    }
   ],
   "source": [
    "DateForSex_df.boxplot('Arrests', by = 'Sex', figsize=(6,6),)"
   ]
  },
  {
   "cell_type": "markdown",
   "metadata": {},
   "source": [
    "## Boxplot - Arrests Across Weather Condition"
   ]
  },
  {
   "cell_type": "code",
   "execution_count": 112,
   "metadata": {
    "scrolled": true
   },
   "outputs": [
    {
     "data": {
      "text/plain": [
       "<matplotlib.axes._subplots.AxesSubplot at 0x1a1b281c50>"
      ]
     },
     "execution_count": 112,
     "metadata": {},
     "output_type": "execute_result"
    },
    {
     "data": {
      "image/png": "[encoded data removed]",
      "text/plain": [
       "<Figure size 432x432 with 1 Axes>"
      ]
     },
     "metadata": {
      "needs_background": "light"
     },
     "output_type": "display_data"
    }
   ],
   "source": [
    "DateForSex_df.boxplot('Arrests', by = 'Forecast', figsize=(6,6))"
   ]
  },
  {
   "cell_type": "markdown",
   "metadata": {},
   "source": [
    "## Anova Testing - (All Forecasts and Arrests) and (Forecast and Gender interaction)"
   ]
  },
  {
   "cell_type": "code",
   "execution_count": 118,
   "metadata": {},
   "outputs": [
    {
     "data": {
      "text/html": [
       "<div>\n",
       "<style scoped>\n",
       "    .dataframe tbody tr th:only-of-type {\n",
       "        vertical-align: middle;\n",
       "    }\n",
       "\n",
       "    .dataframe tbody tr th {\n",
       "        vertical-align: top;\n",
       "    }\n",
       "\n",
       "    .dataframe thead th {\n",
       "        text-align: right;\n",
       "    }\n",
       "</style>\n",
       "<table border=\"1\" class=\"dataframe\">\n",
       "  <thead>\n",
       "    <tr style=\"text-align: right;\">\n",
       "      <th></th>\n",
       "      <th>df</th>\n",
       "      <th>sum_sq</th>\n",
       "      <th>mean_sq</th>\n",
       "      <th>F</th>\n",
       "      <th>PR(&gt;F)</th>\n",
       "    </tr>\n",
       "  </thead>\n",
       "  <tbody>\n",
       "    <tr>\n",
       "      <td>Forecast</td>\n",
       "      <td>4.0</td>\n",
       "      <td>4.264962e+02</td>\n",
       "      <td>106.624038</td>\n",
       "      <td>0.030441</td>\n",
       "      <td>0.998214</td>\n",
       "    </tr>\n",
       "    <tr>\n",
       "      <td>Residual</td>\n",
       "      <td>537.0</td>\n",
       "      <td>1.880918e+06</td>\n",
       "      <td>3502.639772</td>\n",
       "      <td>NaN</td>\n",
       "      <td>NaN</td>\n",
       "    </tr>\n",
       "  </tbody>\n",
       "</table>\n",
       "</div>"
      ],
      "text/plain": [
       "             df        sum_sq      mean_sq         F    PR(>F)\n",
       "Forecast    4.0  4.264962e+02   106.624038  0.030441  0.998214\n",
       "Residual  537.0  1.880918e+06  3502.639772       NaN       NaN"
      ]
     },
     "execution_count": 118,
     "metadata": {},
     "output_type": "execute_result"
    }
   ],
   "source": [
    "anova_season = ols('Arrests ~ Forecast ',data=DateForSex_df).fit()\n",
    "\n",
    "anova_table = sm.stats.anova_lm(anova_season, type=2)\n",
    "anova_table"
   ]
  },
  {
   "cell_type": "code",
   "execution_count": 90,
   "metadata": {},
   "outputs": [
    {
     "data": {
      "text/html": [
       "<div>\n",
       "<style scoped>\n",
       "    .dataframe tbody tr th:only-of-type {\n",
       "        vertical-align: middle;\n",
       "    }\n",
       "\n",
       "    .dataframe tbody tr th {\n",
       "        vertical-align: top;\n",
       "    }\n",
       "\n",
       "    .dataframe thead th {\n",
       "        text-align: right;\n",
       "    }\n",
       "</style>\n",
       "<table border=\"1\" class=\"dataframe\">\n",
       "  <thead>\n",
       "    <tr style=\"text-align: right;\">\n",
       "      <th></th>\n",
       "      <th>df</th>\n",
       "      <th>sum_sq</th>\n",
       "      <th>mean_sq</th>\n",
       "      <th>F</th>\n",
       "      <th>PR(&gt;F)</th>\n",
       "    </tr>\n",
       "  </thead>\n",
       "  <tbody>\n",
       "    <tr>\n",
       "      <td>Forecast</td>\n",
       "      <td>4.0</td>\n",
       "      <td>4.264962e+02</td>\n",
       "      <td>1.066240e+02</td>\n",
       "      <td>0.199514</td>\n",
       "      <td>9.385883e-01</td>\n",
       "    </tr>\n",
       "    <tr>\n",
       "      <td>Sex</td>\n",
       "      <td>1.0</td>\n",
       "      <td>1.595737e+06</td>\n",
       "      <td>1.595737e+06</td>\n",
       "      <td>2985.922115</td>\n",
       "      <td>2.262554e-220</td>\n",
       "    </tr>\n",
       "    <tr>\n",
       "      <td>Forecast:Sex</td>\n",
       "      <td>4.0</td>\n",
       "      <td>8.694037e+02</td>\n",
       "      <td>2.173509e+02</td>\n",
       "      <td>0.406704</td>\n",
       "      <td>8.038621e-01</td>\n",
       "    </tr>\n",
       "    <tr>\n",
       "      <td>Residual</td>\n",
       "      <td>532.0</td>\n",
       "      <td>2.843115e+05</td>\n",
       "      <td>5.344201e+02</td>\n",
       "      <td>NaN</td>\n",
       "      <td>NaN</td>\n",
       "    </tr>\n",
       "  </tbody>\n",
       "</table>\n",
       "</div>"
      ],
      "text/plain": [
       "                 df        sum_sq       mean_sq            F         PR(>F)\n",
       "Forecast        4.0  4.264962e+02  1.066240e+02     0.199514   9.385883e-01\n",
       "Sex             1.0  1.595737e+06  1.595737e+06  2985.922115  2.262554e-220\n",
       "Forecast:Sex    4.0  8.694037e+02  2.173509e+02     0.406704   8.038621e-01\n",
       "Residual      532.0  2.843115e+05  5.344201e+02          NaN            NaN"
      ]
     },
     "execution_count": 90,
     "metadata": {},
     "output_type": "execute_result"
    }
   ],
   "source": [
    "from statsmodels.formula.api import ols\n",
    "import statsmodels.api as sm\n",
    "from statsmodels.formula.api import ols\n",
    "import statsmodels.api as sm\n",
    "\n",
    "anova_season = ols('Arrests ~ Forecast * Sex',data=DateForSex_df).fit()\n",
    "\n",
    "anova_table = sm.stats.anova_lm(anova_season, type=2)\n",
    "anova_table"
   ]
  }
 ],
 "metadata": {
  "kernelspec": {
   "display_name": "Python 3",
   "language": "python",
   "name": "python3"
  },
  "language_info": {
   "codemirror_mode": {
    "name": "ipython",
    "version": 3
   },
   "file_extension": ".py",
   "mimetype": "text/x-python",
   "name": "python",
   "nbconvert_exporter": "python",
   "pygments_lexer": "ipython3",
   "version": "3.7.4"
  }
 },
 "nbformat": 4,
 "nbformat_minor": 2
}
