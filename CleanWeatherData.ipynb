{
 "cells": [
  {
   "cell_type": "code",
   "execution_count": null,
   "metadata": {},
   "outputs": [],
   "source": [
    "import requests \n",
    "import json\n",
    "import pandas as pd\n",
    "import numpy as np\n",
    "from numpy import array\n",
    "from datetime import datetime, timedelta"
   ]
  },
  {
   "cell_type": "code",
   "execution_count": null,
   "metadata": {},
   "outputs": [],
   "source": [
    "# Creating a list of days in unix time to make dark sky api calls with\n",
    "def list_of_days():\n",
    "    days_list = []\n",
    "    starting_x = 1546214400\n",
    "    while starting_x < 1572480000:\n",
    "        starting_x = starting_x + 86400\n",
    "        \n",
    "        days_list.append(starting_x)\n",
    "    return days_list"
   ]
  },
  {
   "cell_type": "code",
   "execution_count": null,
   "metadata": {},
   "outputs": [],
   "source": [
    "ut = list_of_days()"
   ]
  },
  {
   "cell_type": "code",
   "execution_count": null,
   "metadata": {},
   "outputs": [],
   "source": [
    "ut"
   ]
  },
  {
   "cell_type": "code",
   "execution_count": null,
   "metadata": {},
   "outputs": [],
   "source": [
    "# creating a list of links with a loop that merges our base with the unix date time info\n",
    "def create_link():\n",
    "    base = 'https://api.darksky.net/forecast/{API Key}/40.6782,-73.9442,' \n",
    "    end = '?exclude=currently,minutely,hourly,alerts,flags'\n",
    "    list_of_links = []\n",
    "    for i in ut:\n",
    "        list_of_links.append(base + str(i) + end)\n",
    "    return list_of_links"
   ]
  },
  {
   "cell_type": "code",
   "execution_count": null,
   "metadata": {},
   "outputs": [],
   "source": [
    "links_list = create_link()"
   ]
  },
  {
   "cell_type": "code",
   "execution_count": null,
   "metadata": {},
   "outputs": [],
   "source": [
    "len(links_list)"
   ]
  },
  {
   "cell_type": "code",
   "execution_count": null,
   "metadata": {},
   "outputs": [],
   "source": [
    "# creating a function to make API calls with our list of url links\n",
    "def create_weather():\n",
    "    weather_data = [] \n",
    "    for i in links_list:\n",
    "        x = requests.get(i)\n",
    "        weather_data.append(x.content)\n",
    "    return weather_data"
   ]
  },
  {
   "cell_type": "code",
   "execution_count": null,
   "metadata": {},
   "outputs": [],
   "source": [
    "weather_data_list = create_weather()"
   ]
  },
  {
   "cell_type": "code",
   "execution_count": null,
   "metadata": {},
   "outputs": [],
   "source": [
    "weather_data = weather_data_list"
   ]
  },
  {
   "cell_type": "code",
   "execution_count": null,
   "metadata": {},
   "outputs": [],
   "source": [
    "weather_data"
   ]
  },
  {
   "cell_type": "code",
   "execution_count": null,
   "metadata": {},
   "outputs": [],
   "source": [
    "#removing a layer of the dictionaries received from our API calls\n",
    "new_list = []\n",
    "for i in weather_data_list:\n",
    "    p = json.loads(i)\n",
    "    x = {}\n",
    "    for k,v in p.items():\n",
    "        if k == 'daily':\n",
    "            x['daily'] = v\n",
    "    new_list.append(x)\n",
    "new_list"
   ]
  },
  {
   "cell_type": "code",
   "execution_count": null,
   "metadata": {},
   "outputs": [],
   "source": [
    "len(new_list)"
   ]
  },
  {
   "cell_type": "code",
   "execution_count": null,
   "metadata": {},
   "outputs": [],
   "source": [
    "#removing another layer of the dictionaries received from our API calls\n",
    "cleaner_weather = []\n",
    "for i in new_list:\n",
    "    for k,v in i.items():\n",
    "        x = v\n",
    "        cleaner_weather.append(x)\n",
    "cleaner_weather"
   ]
  },
  {
   "cell_type": "code",
   "execution_count": null,
   "metadata": {},
   "outputs": [],
   "source": [
    "len(cleaner_weather)"
   ]
  },
  {
   "cell_type": "code",
   "execution_count": null,
   "metadata": {},
   "outputs": [],
   "source": [
    "#removing a layer of the dictionaries received from our API calls to create our final weather data set\n",
    "cleaner_weather1 = []\n",
    "for i in cleaner_weather:\n",
    "    for k,v in i.items():\n",
    "        x = v\n",
    "        cleaner_weather1.append(x)\n",
    "cleaner_weather1"
   ]
  },
  {
   "cell_type": "code",
   "execution_count": null,
   "metadata": {},
   "outputs": [],
   "source": [
    "len(cleaner_weather1)"
   ]
  },
  {
   "cell_type": "code",
   "execution_count": null,
   "metadata": {},
   "outputs": [],
   "source": [
    "#function to create pull only the relevant info from our API calls\n",
    "cw = []\n",
    "for i in cleaner_weather1:\n",
    "    for x in i: \n",
    "        final_weather_list = {}\n",
    "        for k,v in x.items():\n",
    "            if k == 'time':\n",
    "                final_weather_list['time'] = v\n",
    "            if k == 'icon':\n",
    "                final_weather_list['icon'] = v\n",
    "            if k == 'moonPhase':\n",
    "                final_weather_list['moonPhase'] = v\n",
    "            if k == 'precipIntensity':\n",
    "                final_weather_list['precipIntensity'] = v\n",
    "            if k == 'apparentTemperatureHigh':\n",
    "                final_weather_list['apparentTemperatureHigh'] = v\n",
    "            if k == 'apparentTemperatureLow':\n",
    "                final_weather_list['apparentTemperatureLow'] = v\n",
    "            if k == 'windSpeed':\n",
    "                final_weather_list['windSpeed'] = v\n",
    "        cw.append(final_weather_list)\n",
    "        \n",
    "dfcw = pd.DataFrame(cw)\n",
    "dfcw"
   ]
  },
  {
   "cell_type": "code",
   "execution_count": null,
   "metadata": {},
   "outputs": [],
   "source": [
    "halloween = requests.get('https://api.darksky.net/forecast/7094f90a2c5f593cd44c74c5192618dd/40.6782,-73.9442,1572494400?exclude=currently,minutely,hourly,alerts,flags')"
   ]
  },
  {
   "cell_type": "code",
   "execution_count": null,
   "metadata": {},
   "outputs": [],
   "source": [
    "halloween.content"
   ]
  },
  {
   "cell_type": "code",
   "execution_count": null,
   "metadata": {},
   "outputs": [],
   "source": [
    "#converting unix time to datetime so we can merge our datasets together later\n",
    "dfcw['time'] = pd.to_datetime(dfcw['time'], unit='s')"
   ]
  },
  {
   "cell_type": "code",
   "execution_count": null,
   "metadata": {},
   "outputs": [],
   "source": [
    "dfcw"
   ]
  },
  {
   "cell_type": "code",
   "execution_count": null,
   "metadata": {},
   "outputs": [],
   "source": [
    "dfcw.drop([0], inplace=True)"
   ]
  },
  {
   "cell_type": "code",
   "execution_count": null,
   "metadata": {},
   "outputs": [],
   "source": [
    "dfcw"
   ]
  },
  {
   "cell_type": "code",
   "execution_count": null,
   "metadata": {},
   "outputs": [],
   "source": [
    "dfcw.columns"
   ]
  },
  {
   "cell_type": "code",
   "execution_count": null,
   "metadata": {},
   "outputs": [],
   "source": [
    "#creating a new column in our dataframe with the mean of our high and low temps\n",
    "dfcw['Average_Temp'] = dfcw[['apparentTemperatureHigh', 'apparentTemperatureLow']].apply(lambda x: (x['apparentTemperatureHigh'] + x['apparentTemperatureLow'])/2, axis = 1)"
   ]
  },
  {
   "cell_type": "code",
   "execution_count": null,
   "metadata": {},
   "outputs": [],
   "source": [
    "dfcw"
   ]
  },
  {
   "cell_type": "code",
   "execution_count": null,
   "metadata": {},
   "outputs": [],
   "source": [
    "#dropping temp columns\n",
    "dfcw.drop(['apparentTemperatureHigh', 'apparentTemperatureLow'], axis = 1, inplace=True)"
   ]
  },
  {
   "cell_type": "code",
   "execution_count": null,
   "metadata": {},
   "outputs": [],
   "source": [
    "dfcw.count()"
   ]
  },
  {
   "cell_type": "code",
   "execution_count": null,
   "metadata": {},
   "outputs": [],
   "source": [
    "dfcw = dfcw.dropna(how='any', axis=0)"
   ]
  },
  {
   "cell_type": "code",
   "execution_count": null,
   "metadata": {},
   "outputs": [],
   "source": [
    "dfcw.count()"
   ]
  },
  {
   "cell_type": "code",
   "execution_count": null,
   "metadata": {},
   "outputs": [],
   "source": [
    "dfcw.head()"
   ]
  },
  {
   "cell_type": "code",
   "execution_count": null,
   "metadata": {},
   "outputs": [],
   "source": [
    "dfcw['time'] = pd.to_datetime(dfcw['time'])"
   ]
  },
  {
   "cell_type": "code",
   "execution_count": null,
   "metadata": {},
   "outputs": [],
   "source": [
    "dfcw.info()"
   ]
  },
  {
   "cell_type": "code",
   "execution_count": null,
   "metadata": {},
   "outputs": [],
   "source": [
    "dfcw['time'] = pd.to_datetime(dfcw['time']).dt.normalize()"
   ]
  },
  {
   "cell_type": "code",
   "execution_count": null,
   "metadata": {},
   "outputs": [],
   "source": [
    "dfcw"
   ]
  },
  {
   "cell_type": "code",
   "execution_count": null,
   "metadata": {},
   "outputs": [],
   "source": [
    "dfcw.rename(columns={'time': 'Date', 'icon': \"Forecast\", 'moonPhase': 'Moon Phase', 'precipIntensity': 'Precipitation', 'windSpeed': 'Wind Speed'}, inplace=True)"
   ]
  },
  {
   "cell_type": "code",
   "execution_count": null,
   "metadata": {},
   "outputs": [],
   "source": [
    "dfcw"
   ]
  },
  {
   "cell_type": "code",
   "execution_count": null,
   "metadata": {},
   "outputs": [],
   "source": []
  }
 ],
 "metadata": {
  "kernelspec": {
   "display_name": "Python 3",
   "language": "python",
   "name": "python3"
  },
  "language_info": {
   "codemirror_mode": {
    "name": "ipython",
    "version": 3
   },
   "file_extension": ".py",
   "mimetype": "text/x-python",
   "name": "python",
   "nbconvert_exporter": "python",
   "pygments_lexer": "ipython3",
   "version": "3.7.3"
  }
 },
 "nbformat": 4,
 "nbformat_minor": 2
}
